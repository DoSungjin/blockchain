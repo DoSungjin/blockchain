{
  "cells": [
    {
      "cell_type": "code",
      "execution_count": 1,
      "metadata": {
        "id": "ItD-hfRHBdSB"
      },
      "outputs": [],
      "source": [
        "from flask import Flask\n",
        "from flask import request\n",
        "\n",
        "import json\n",
        "import requests\n",
        "import hashlib as hasher\n",
        "import datetime as date\n",
        "import os"
      ]
    },
    {
      "cell_type": "code",
      "execution_count": 6,
      "metadata": {
        "id": "Ys4nl7dtBjv6"
      },
      "outputs": [],
      "source": [
        "node = Flask(__name__)\n",
        "# Flask는 Micro Web Server Framework 최소한의 것들을 만들기 위해서 만들어진 프레임워크"
      ]
    },
    {
      "cell_type": "code",
      "execution_count": null,
      "metadata": {
        "colab": {
          "base_uri": "https://localhost:8080/"
        },
        "id": "qrim7eT9Ilag",
        "outputId": "4fcb88cd-6a8c-414a-ca9c-d91a4ccf6920"
      },
      "outputs": [
        {
          "name": "stdout",
          "output_type": "stream",
          "text": [
            " * Serving Flask app \"__main__\" (lazy loading)\n",
            " * Environment: production\n",
            "\u001b[31m   WARNING: This is a development server. Do not use it in a production deployment.\u001b[0m\n",
            "\u001b[2m   Use a production WSGI server instead.\u001b[0m\n",
            " * Debug mode: off\n"
          ]
        },
        {
          "name": "stderr",
          "output_type": "stream",
          "text": [
            " * Running on http://127.0.0.1:5000/ (Press CTRL+C to quit)\n"
          ]
        }
      ],
      "source": [
        "# from flask import Flask  # Flask 모듈 삽입\n",
        "# app = Flask(__name__)  # Flask 인스턴스 생성\n",
        " \n",
        "# @app.route('/')  # route 데코레이터 사용, 어떤 URL이 우리가 작성한 함수를 실행 시키는지 알림\n",
        "# def hello_world():\n",
        "#     return 'Hello World!'\n",
        " \n",
        "# if __name__ == '__main__':\n",
        "#     app.run()  # 서버 실행\n"
      ]
    },
    {
      "cell_type": "code",
      "execution_count": 4,
      "metadata": {
        "id": "sLiTTAF9BmUu"
      },
      "outputs": [],
      "source": [
        "class FTCBlock:\n",
        "  def __init__(self, index, timestamp, data, prev_hash):\n",
        "    self.index = index\n",
        "    self.timestamp = timestamp\n",
        "    self.data = data\n",
        "    self.prev_hash = prev_hash\n",
        "    self.hash = self.hash_FTCblock()\n",
        "  \n",
        "  def hash_FTCblock(self):\n",
        "    sha = hasher.sha256()\n",
        "    sha.update((str(self.index) + \n",
        "               str(self.timestamp) + \n",
        "               str(self.data) + \n",
        "               str(self.prev_hash)).encode())\n",
        "    return sha.hexdigest()\n",
        "    # hash block과 sha 256방식을 적용함(비대칭키)"
      ]
    },
    {
      "cell_type": "code",
      "execution_count": 7,
      "metadata": {
        "colab": {
          "base_uri": "https://localhost:8080/"
        },
        "id": "puEFGJohCIdJ",
        "outputId": "672e8fe6-2392-4b24-b797-dd7cec35aa89"
      },
      "outputs": [
        {
          "data": {
            "text/plain": [
              "<function flask.app.Flask.route.<locals>.decorator(f)>"
            ]
          },
          "execution_count": 7,
          "metadata": {},
          "output_type": "execute_result"
        }
      ],
      "source": [
        "def first_block():\n",
        "  return FTCBlock(0, date.datetime.now(), {\n",
        "    \"Proof-of-Work\": 3,   \n",
        "    \"Transactions\": None\n",
        "  }, \"0\")\n",
        "\n",
        "# genesis block을 형성한다. proof of work는 문제를 푸는 난이도를 뜻한다.\n",
        "# 처음 genesis block의 트랜젝션은 아무것도 쓰여지지 않는다.\n",
        "\n",
        "\n",
        "\n",
        "\n",
        "\n",
        "\n",
        "miner_address = \"q3nf394hjg-random-miner-address-34nf3i4nflkn3oi\"\n",
        "\n",
        "blockchain = []\n",
        "blockchain.append(first_block())\n",
        "\n",
        "this_nodes_transactions = []\n",
        "\n",
        "peer_nodes = []\n",
        "\n",
        "mining = True\n",
        "\n",
        "node.route('/txdata', methods=['POST'])"
      ]
    },
    {
      "cell_type": "code",
      "execution_count": 8,
      "metadata": {
        "colab": {
          "base_uri": "https://localhost:8080/"
        },
        "id": "QoCP7MotDi7D",
        "outputId": "b44a4021-d2fe-4839-9bbb-9a22a472f5d2"
      },
      "outputs": [
        {
          "data": {
            "text/plain": [
              "<function flask.app.Flask.route.<locals>.decorator(f)>"
            ]
          },
          "execution_count": 8,
          "metadata": {},
          "output_type": "execute_result"
        }
      ],
      "source": [
        "def transaction():\n",
        "  new_txion = xrequest.get_json()\n",
        "\n",
        "  this_nodes_transactions.append(new_txion)\n",
        "\n",
        "  print(\"New transaction\")\n",
        "  print(\"FROM: {}\".format(new_txion['from'].encode('ascii','replace')))\n",
        "  print(\"TO: {}\".format(new_txion['to'].encode('ascii','replace')))\n",
        "  print(\"AMOUNT: {}\\n\".format(new_txion['amount']))\n",
        "\n",
        "  return \"TX Data is transmitted successfully.\\n\"\n",
        "# trainsaction에는 많은 정보들이 담긴다. \n",
        "node.route('/blocks', methods=['GET'])"
      ]
    },
    {
      "cell_type": "code",
      "execution_count": null,
      "metadata": {
        "id": "wkCLX76FDlxk"
      },
      "outputs": [],
      "source": [
        "def get_blocks():\n",
        "  chain_to_send = blockchain\n",
        "  for i in range(len(chain_to_send)):\n",
        "    block = chain_to_send[i]\n",
        "    block_index = str(block.index)\n",
        "    block_timestamp = str(block.timestamp)\n",
        "    block_data = str(block.data)\n",
        "    block_hash = block.hash\n",
        "    chain_to_send[i] = {\n",
        "      \"index\": block_index,\n",
        "      \"timestamp\": block_timestamp,\n",
        "      \"data\": block_data,\n",
        "      \"hash\": block_hash\n",
        "    }\n",
        "  chain_to_send = json.dumps(chain_to_send)\n",
        "  return chain_to_send\n",
        "# 블록체인에 정보를 담는 과정"
      ]
    },
    {
      "cell_type": "code",
      "execution_count": 9,
      "metadata": {
        "id": "3sN4wHYZDr7Z"
      },
      "outputs": [],
      "source": [
        "def find_new_chains():\n",
        "  other_chains = []\n",
        "  for node_url in peer_nodes:\n",
        "    block = requests.get(node_url + \"/blocks\").content\n",
        "    block = json.loads(block)\n",
        "    other_chains.append(block)\n",
        "  return other_chains\n",
        "  \n",
        "# 새로운 체인을 찾아서 추가 시키는 코드"
      ]
    },
    {
      "cell_type": "markdown",
      "metadata": {
        "id": "2uYa49O9DwXW"
      },
      "source": [
        "# largest chain\n"
      ]
    },
    {
      "cell_type": "markdown",
      "metadata": {
        "id": "umbNYXMnNZ1h"
      },
      "source": [
        "consensus - chain이 생성되기 위해서는 트랜잭션이 생성되고, 네트워크를 통해 전파되고, 검증을 거쳐 각 노드에 저장된다. 각 노드 후보블록들의 nonce찾기 경쟁을 통해 대표블록이 선정된다. 선정된 대표블록은 다시 네트워크로 전파되어 각 노드의 블록체인에 연결된다.\n",
        "\n",
        "이 과정에서 10분이라는 제한시간 동안 nonce값을 찾는 블록이 여러블록이 존재 할 가능성이 있다. 이것을 fork(분기)가 발생했다고 표현한다. fork가 발생할 경우 대표블록에 대해 일단 분기된 블록에 보상을 지급한 후에 largest chain에 대해 최종 대표블록으로 선정하고 나머지 블록은 고아 블록으로 보상받은 비트코인을 바로 사용할 수 없게 일정시간을 설정하고 도태시킨다. (largest chain 방식)\n"
      ]
    },
    {
      "cell_type": "code",
      "execution_count": 10,
      "metadata": {
        "id": "fsoyqfGwDutA"
      },
      "outputs": [],
      "source": [
        "def consensus():\n",
        "  other_chains = find_new_chains()\n",
        "  nearest_chain = blockchain\n",
        "  for chain in other_chains:\n",
        "    if nearest_chain('timestamp') < chain('timestamp'):\n",
        "      nearest_chain = chain\n",
        "  blockchain = nearest_chain\n",
        "# 새로운 체인을 추가 시키는 과정에서 어떻게 합의를 할 것인가.\n",
        "# 기존의 합의 방식은 fork가 발생했을때 더 많이 블록이 형성된 체인 (longest chain)을 남기고 나머지 체인은 도태시킨다.\n",
        "# 거리의 개념을 어떻게 정의할 것인가? - 정밀한 무선측위 기반 CPS를 위한 SDS-TWR 거리측정 기법의 성능 평가 (유준혁/김희철)논문을 보게 되면 논스사이의 거리를 타임스탬프를 활용해 측정한 방식이 제기된다. \n",
        "# 이를 활용하여 타임스탬프 값으로 가까운 체인을 nearest chain으로 선정하여 append 시킨다.\n",
        "# 다익스트라 파이썬 q 개념 살펴보기/ 시간 - 타임스탬프 값 짧은 것으로 새로운 블록을 지정하기\n",
        "# 이전 'timestamp': '2022-04-29 09:14:46.390280' 새로운 블록의 'timestamp': '2022-04-~ 값을 비교하여 짧은 블록을 새로운 블록으로 추가하여 대표블록으로 선정"
      ]
    },
    {
      "cell_type": "markdown",
      "metadata": {
        "id": "XOxIwLtXn1Gj"
      },
      "source": [
        "네트워크: 현실 세계의 각종 시스템(체계)을 노드 (Node: 개체)와 링크 (Link: 개체간 연결관계)로 표현하는 모델링 방법\n",
        "\n",
        "네트워크 과학: 현실 세계를 네트워크 형태로 모델링한 후 구성된 네트워크의 구성정보(노드, 링크)들을 과학적으로 분석하는 방법론을 다루는 학문"
      ]
    },
    {
      "cell_type": "markdown",
      "metadata": {
        "id": "MZVfkNtclrf8"
      },
      "source": [
        "7.3 연결거리 (Distance)\n",
        "연결거리: 특정 노드 간에 연결된 거리를 의미, 또는 단계로도 표현한다.\n",
        "\n",
        "길이 개념을 강조하는 경우 \"경로거리\" (Path Length)라고 한다.\n",
        "다양한 경로가 존재하는 경우 노드 간 연결거리는 최단 연결거리를 나타낸다.\n",
        "\n",
        "정보, 소문 등의 신속한 전파여부를 판단하는 지표, 중심성 분석 / 하위집단 분석 등에서 많이 활용되며, 네트워크 내 노드들의 결속성을 분석하는 척도로도 활용 가능하다.\n",
        "\n",
        "7.4 직경 (Diameter)\n",
        "직경: 네트워크 내 연결거리 중 가장 긴 연결거리\n",
        "네트워크 내 가장 멀리 떨어진 두 노드 간의 거리이므로 네트워크의 지름이라고도 한다.\n",
        "\n",
        "7.5 평균 연결거리 (Average Distance)\n",
        "평균 연결거리: 네트워크 내 모든 노드 쌍의 연결거리에 대한 평균\n",
        "평균연결거리는 평균거리, 평균경로길이, 특성경로길이, 특성연결거리로 표현하기도 한다.\n",
        "군집화 계수와 함께 좁은 세상 네트워크의 속성을 파악하는데 유용하게 사용\n",
        "\n",
        "(1) 평균 연결거리 계산법\n",
        "\n",
        "n개의 노드를 가진 임의의 네트워크 G에서 노드 Ni와 Nj 간의 최단 연결거리를 D(i, j), 노드 Ni에서 네트워크 내 모든 노드들 (Nj: j는 노드 i를 제외한 모든 노드들)에 이른 최단연결거리의 평균을 D(i)라고 할 때\n",
        "\n",
        "평균 연결거리 D(g) [=모든 노드들(Nn: n은 n개 노드)들의 각 D(n)의 평균]: D(G) = 시그마 k=1부터 n까지 D(i)\n",
        "n: 노드 수, D(i): 노드 i의 최단연결거리 평균"
      ]
    },
    {
      "cell_type": "markdown",
      "metadata": {
        "id": "2pPPnFDQD6Ms"
      },
      "source": [
        "# proof of work"
      ]
    },
    {
      "cell_type": "code",
      "execution_count": 11,
      "metadata": {
        "colab": {
          "base_uri": "https://localhost:8080/"
        },
        "id": "eLTPa266D5oB",
        "outputId": "1aeb2c94-7858-444f-f153-8eecb2d93146"
      },
      "outputs": [
        {
          "data": {
            "text/plain": [
              "<function flask.app.Flask.route.<locals>.decorator(f)>"
            ]
          },
          "execution_count": 11,
          "metadata": {},
          "output_type": "execute_result"
        }
      ],
      "source": [
        "def proof_of_work(last_proof):\n",
        "  incrementor = last_proof + 1\n",
        "  while not (incrementor % 3 == 0 and incrementor % last_proof == 0):\n",
        "    incrementor += 1\n",
        "  return incrementor\n",
        "node.route('/mining', methods = ['GET'])\n",
        "# 일정 목표값보다 작은 해쉬값을 찾는 것이 목표 / 여기서는 3으로 떨어지는 값을 찾는 것을 목표로 잡은듯하다?\n",
        "\n",
        "# incrementor 관련 난이도(시간)개념을 설정하여 1시간마다 proof of work 방식을 변경한다.\n",
        "# 가능하다면 incrementor에 따라 새로운 block이 추가 될때 시간을 측정하여 x로 설정하고 \n",
        "# 새로운 block 형성이 다수의 chain으로 구성되는 총시간이 1시간 될때 마다 새로운 방식의 (pos) 작업증명을 셋팅한다.\n",
        "# 변경 방식은 자율 - pow 내에서 변경 or pos 다른 방식을 적용.\n",
        "\n",
        "\n",
        "# proof_of_work가 6개 될때마다 작업 방식을 변경?\n",
        "# pow.pos, DPos, PBFT, Sieve, Tendermint, Raft, Paxos, PoA 등이 있다.\n",
        "# https://medium.com/@kimjunyong/6-%EB%B8%94%EB%A1%9D%EC%B2%B4%EC%9D%B8-%ED%95%A9%EC%9D%98-%EC%95%8C%EA%B3%A0%EB%A6%AC%EC%A6%98-%EC%95%8C%EC%95%84%EB%B3%B4%EA%B8%B0-2%ED%8E%B8-pbft-sieve-tendermint-raft-paxos-poa-a8af8d6eaccd\n",
        "# https://medium.com/@kimjunyong/5-%EB%B8%94%EB%A1%9D%EC%B2%B4%EC%9D%B8-%ED%95%A9%EC%9D%98-%EC%95%8C%EA%B3%A0%EB%A6%AC%EC%A6%98-%EC%95%8C%EC%95%84%EB%B3%B4%EA%B8%B0-1%ED%8E%B8-pow-pos-dpos-21f8e3b2c22a"
      ]
    },
    {
      "cell_type": "markdown",
      "metadata": {
        "id": "P0dp9itWEdf2"
      },
      "source": [
        "# mine (negative interest)"
      ]
    },
    {
      "cell_type": "code",
      "execution_count": 12,
      "metadata": {
        "id": "4xfdzBFdEDHX"
      },
      "outputs": [],
      "source": [
        "def mine():\n",
        "  last_block = blockchain[len(blockchain) - 1]\n",
        "  last_proof = last_block.data['Proof-of-Work']\n",
        "  proof = proof_of_work(last_proof)\n",
        "  this_nodes_transactions.append(\n",
        "    { \"From\": \"network\", \"To\": miner_address, \"Amount\": 1 }\n",
        "  )\n",
        "  new_block_data = {\n",
        "    \"Proof-of-Work\": proof,\n",
        "    \"Transactions\": list(this_nodes_transactions)\n",
        "  }\n",
        "  new_block_index = last_block.index + 1\n",
        "  new_block_timestamp = this_timestamp = date.datetime.now()\n",
        "  last_block_hash = last_block.hash\n",
        "\n",
        "  this_nodes_transactions[:] = []\n",
        "\n",
        "  mined_block = FTCBlock(\n",
        "    new_block_index,\n",
        "    new_block_timestamp,\n",
        "    new_block_data,\n",
        "    last_block_hash\n",
        "  )\n",
        "  blockchain.append(mined_block)\n",
        "  \n",
        "  return json.dumps({\n",
        "      \"Index\": new_block_index,\n",
        "      \"Timestamp\": str(new_block_timestamp),\n",
        "      \"Data\": new_block_data,\n",
        "      \"Hash Value\": last_block_hash\n",
        "  }) + \"\\n\"\n",
        "\n",
        "\n",
        "# 1. pow과정에서 도태되는 block에 대해 기존의 비트코인은 일단 보상을 부여하지만 일정시간동안 longest chain이 형섣되고 \n",
        "#     consensus과정을 거쳐야 한다. 그렇기에 일정시간동안 보상에 대해 거래제한 조치를 취한다. 도태 시킬때 이 보상도 폐기시킨다. \n",
        "#     이를 본다면 보상에 대해 제제를 가하는 것은 가능하다는 것을 확인 하였다. 그렇다면 방법은?\n",
        "#     처음 획득할때 비트코인의 보상을 10사토시라고 한다면 점점 가치를 줄여가는 구조로 형성하는 방법이 있을 것이다. 10을 부여하고 가치를 줄여가는 방식이 어렵다면\n",
        "#     거래 제한을 두되 10의 거래는 가능하지만 처음에 사용하지 않는다면 일정량을 줄여가는 방식도 있을 것이다.\n",
        "\n",
        "\n",
        "# 2 . 기존의 비트코인이 공급이 줄어들면서 보상의 추가량이 줄어드는 구조라면 \n",
        "#     여기서 새롭게 만드는 코인의 구조는 보상의 가치가 줄어드는 구조로 형성하고자 한다.\n",
        "#     코인의 보상에 대해 일정시간 이후 새로운 코인이 만들어질때 기존의 코인에 비해 배수의 법칙을 적용하여 (1사토시 -> 2사토시) 보상의 크기를 늘려서 지급한다면 \n",
        "#     자연스럽게 인플레이션이 발생하면서 코인의 가치가 하락할 것이라 기대된다.\n",
        "#     "
      ]
    },
    {
      "cell_type": "code",
      "execution_count": 13,
      "metadata": {
        "colab": {
          "base_uri": "https://localhost:8080/"
        },
        "id": "55YP-Q5OAS_t",
        "outputId": "52c0b714-903a-4dfc-e523-8002da8848ae"
      },
      "outputs": [
        {
          "name": "stdout",
          "output_type": "stream",
          "text": [
            " * Serving Flask app \"__main__\" (lazy loading)\n",
            " * Environment: production\n",
            "\u001b[31m   WARNING: This is a development server. Do not use it in a production deployment.\u001b[0m\n",
            "\u001b[2m   Use a production WSGI server instead.\u001b[0m\n",
            " * Debug mode: off\n"
          ]
        },
        {
          "name": "stderr",
          "output_type": "stream",
          "text": [
            " * Running on http://127.0.0.1:5000/ (Press CTRL+C to quit)\n",
            "127.0.0.1 - - [08/May/2022 22:50:11] \"GET / HTTP/1.1\" 404 -\n",
            "127.0.0.1 - - [08/May/2022 22:50:12] \"GET /favicon.ico HTTP/1.1\" 404 -\n"
          ]
        }
      ],
      "source": [
        "node.run()\n",
        "# 구글 코랩에서는 flask가 제대로 형성되지 않는듯하다.(끊임없이 실행됨)"
      ]
    }
  ],
  "metadata": {
    "accelerator": "GPU",
    "colab": {
      "collapsed_sections": [],
      "name": "디지털화폐와금융_도성진.ipynb",
      "provenance": []
    },
    "interpreter": {
      "hash": "9ecda0671c17460d234fb722d481238ebea02617f7b32a09294d5784bd259b59"
    },
    "kernelspec": {
      "display_name": "Python 3.9.7 ('base')",
      "language": "python",
      "name": "python3"
    },
    "language_info": {
      "codemirror_mode": {
        "name": "ipython",
        "version": 3
      },
      "file_extension": ".py",
      "mimetype": "text/x-python",
      "name": "python",
      "nbconvert_exporter": "python",
      "pygments_lexer": "ipython3",
      "version": "3.9.7"
    }
  },
  "nbformat": 4,
  "nbformat_minor": 0
}
